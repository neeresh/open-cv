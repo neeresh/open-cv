{
 "cells": [
  {
   "cell_type": "code",
   "execution_count": 1,
   "metadata": {},
   "outputs": [],
   "source": [
    "# Image Blending. 1. Mixing two images. The output image is a combination of the corresponding pixel values of the input images."
   ]
  },
  {
   "cell_type": "code",
   "execution_count": 4,
   "metadata": {},
   "outputs": [],
   "source": [
    "import cv2\n",
    "import numpy as np"
   ]
  },
  {
   "cell_type": "code",
   "execution_count": 18,
   "metadata": {},
   "outputs": [
    {
     "name": "stdout",
     "output_type": "stream",
     "text": [
      "(512, 512, 3)\n",
      "(512, 512, 3)\n"
     ]
    }
   ],
   "source": [
    "apple = cv2.imread('apple.jpg')\n",
    "orange = cv2.imread('orange.jpg')\n",
    "\n",
    "print(apple.shape)\n",
    "print(orange.shape)\n",
    "\n",
    "cv2.imshow('Apple', apple)\n",
    "cv2.imshow('Orange', orange)\n",
    "\n",
    "apple_orange = np.hstack((apple[:, :256], orange[:, 256:]))\n",
    "cv2.imshow('Apple Orange', apple_orange)\n",
    "cv2.waitKey(0)\n",
    "cv2.destroyAllWindows()"
   ]
  },
  {
   "cell_type": "code",
   "execution_count": 10,
   "metadata": {},
   "outputs": [],
   "source": [
    "# there are 5 steps to perform image blending :-\n",
    "# 1) Load two images of apple and orange\n",
    "# 2) Find the gaussian pyramids for apple and orange\n",
    "# 3) From Gaussian pyramids find Laplacian pyramids\n",
    "# 4) Now join the left half of apple and right half of the orange in each levels of laplacian pyramids\n",
    "# 5) Finally from this join image pyramids , reconstruct the original images"
   ]
  },
  {
   "cell_type": "code",
   "execution_count": 14,
   "metadata": {},
   "outputs": [
    {
     "name": "stdout",
     "output_type": "stream",
     "text": [
      "(512, 512, 3)\n",
      "(512, 512, 3)\n"
     ]
    }
   ],
   "source": [
    "apple = cv2.imread('apple.jpg')\n",
    "orange = cv2.imread('orange.jpg')\n",
    "\n",
    "print(apple.shape)\n",
    "print(orange.shape)\n",
    "\n",
    "cv2.imshow('Apple', apple)\n",
    "cv2.imshow('Orange', orange)\n",
    "\n",
    "apple_orange = np.hstack((apple[:, :256], orange[:, 256:]))\n",
    "\n",
    "# Generating gaussian pyramid for apples\n",
    "apple_copy = apple.copy()\n",
    "gaussian_pyramid_apple = [apple_copy]\n",
    "\n",
    "for i in range(6):\n",
    "    apple_copy = cv2.pyrDown(apple_copy)\n",
    "    gaussian_pyramid_apple.append(apple_copy)\n",
    "    \n",
    "# Generating Gaussian pyramid for oranges\n",
    "orange_copy = orange.copy()\n",
    "gaussian_pyramid_orange = [orange_copy]\n",
    "\n",
    "for i in range(6):\n",
    "    orange_copy = cv2.pyrDown(orange_copy)\n",
    "    gaussian_pyramid_orange.append(orange_copy)\n",
    "    \n",
    "# Generating Laplacian pyramid for apple\n",
    "apple_copy = gaussian_pyramid_apple[5]\n",
    "laplacian_apple = [apple_copy]\n",
    "\n",
    "for i in range(5, 0, -1):\n",
    "    gaussian_extended = cv2.pyrUp(gaussian_pyramid_apple[i])\n",
    "    laplacian = cv2.subtract(gaussian_pyramid_apple[i-1], gaussian_extended)\n",
    "    laplacian_apple.append(laplacian)\n",
    "\n",
    "# Generating laplacian pyramid for apple\n",
    "orange_copy = gaussian_pyramid_orange[5]\n",
    "laplacian_orange = [orange_copy]\n",
    "\n",
    "for i in range(5, 0 ,-1):\n",
    "    gaussian_extended = cv2.pyrUp(gaussian_pyramid_orange[i])\n",
    "    laplacian = cv2.subtract(gaussian_pyramid_orange[i-1], gaussian_extended)\n",
    "    laplacian_orange.append(laplacian)\n",
    "    \n",
    "# Joining half of apples and oranges\n",
    "apple_orange_pyramid = []\n",
    "n = 0\n",
    "\n",
    "for apple_lap, orange_lap in zip(laplacian_apple, laplacian_orange):\n",
    "    n += 1\n",
    "    cols, rows, ch = apple_lap.shape\n",
    "    laplacian = np.hstack((apple_lap[:, 0:int(cols/2)], orange_lap[:, int(cols/2):]))\n",
    "    apple_orange_pyramid.append(laplacian)\n",
    "    \n",
    "# Reconstructing the image\n",
    "apple_orange_recostruct = apple_orange_pyramid[0]\n",
    "\n",
    "for i in range(1, 6):\n",
    "    apple_orange_recostruct = cv2.pyrUp(apple_orange_recostruct)\n",
    "    apple_orange_recostruct = cv2.add(apple_orange_pyramid[i], apple_orange_recostruct)\n",
    "\n",
    "cv2.imshow('Apple_Orange_reconstruct', apple_orange_recostruct)\n",
    "cv2.imshow('Apple Orange', apple_orange)\n",
    "cv2.waitKey(0)\n",
    "cv2.destroyAllWindows()"
   ]
  },
  {
   "cell_type": "code",
   "execution_count": null,
   "metadata": {},
   "outputs": [],
   "source": []
  },
  {
   "cell_type": "code",
   "execution_count": null,
   "metadata": {},
   "outputs": [],
   "source": []
  }
 ],
 "metadata": {
  "kernelspec": {
   "display_name": "Python 3",
   "language": "python",
   "name": "python3"
  },
  "language_info": {
   "codemirror_mode": {
    "name": "ipython",
    "version": 3
   },
   "file_extension": ".py",
   "mimetype": "text/x-python",
   "name": "python",
   "nbconvert_exporter": "python",
   "pygments_lexer": "ipython3",
   "version": "3.7.6"
  }
 },
 "nbformat": 4,
 "nbformat_minor": 4
}
