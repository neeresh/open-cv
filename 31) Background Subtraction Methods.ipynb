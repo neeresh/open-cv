{
 "cells": [
  {
   "cell_type": "code",
   "execution_count": 1,
   "metadata": {},
   "outputs": [],
   "source": [
    "import cv2"
   ]
  },
  {
   "cell_type": "code",
   "execution_count": 18,
   "metadata": {},
   "outputs": [],
   "source": [
    "capture = cv2.VideoCapture('vtest.avi')\n",
    "foreground_background = cv2.createBackgroundSubtractorMOG2(detectShadows = False)\n",
    "\n",
    "\n",
    "while True:\n",
    "    ret, frame = capture.read()\n",
    "    \n",
    "    if frame is None:\n",
    "        break\n",
    "    fgmask = foreground_background.apply(frame)\n",
    "    \n",
    "    \n",
    "    \n",
    "    cv2.imshow('Without Background', fgmask)\n",
    "    cv2.imshow('Frames', frame)\n",
    "    \n",
    "    keyboard = cv2.waitKey(30)\n",
    "    \n",
    "    if keyboard == 'q' or keyboard == 27:\n",
    "        break\n",
    "    \n",
    "capture.release()\n",
    "cv2.destroyAllWindows()"
   ]
  },
  {
   "cell_type": "code",
   "execution_count": 12,
   "metadata": {},
   "outputs": [
    {
     "ename": "AttributeError",
     "evalue": "module 'cv2.cv2' has no attribute 'bgsegm'",
     "output_type": "error",
     "traceback": [
      "\u001b[1;31m---------------------------------------------------------------------------\u001b[0m",
      "\u001b[1;31mAttributeError\u001b[0m                            Traceback (most recent call last)",
      "\u001b[1;32m<ipython-input-12-ef4da83afdeb>\u001b[0m in \u001b[0;36m<module>\u001b[1;34m\u001b[0m\n\u001b[0;32m      1\u001b[0m \u001b[0mcapture\u001b[0m \u001b[1;33m=\u001b[0m \u001b[0mcv2\u001b[0m\u001b[1;33m.\u001b[0m\u001b[0mVideoCapture\u001b[0m\u001b[1;33m(\u001b[0m\u001b[1;34m'vtest.avi'\u001b[0m\u001b[1;33m)\u001b[0m\u001b[1;33m\u001b[0m\u001b[1;33m\u001b[0m\u001b[0m\n\u001b[1;32m----> 2\u001b[1;33m \u001b[0mforeground_background\u001b[0m \u001b[1;33m=\u001b[0m \u001b[0mcv2\u001b[0m\u001b[1;33m.\u001b[0m\u001b[0mbgsegm\u001b[0m\u001b[1;33m.\u001b[0m\u001b[0mcreateBackgroundSubtractorMOG\u001b[0m\u001b[1;33m(\u001b[0m\u001b[1;33m)\u001b[0m\u001b[1;33m\u001b[0m\u001b[1;33m\u001b[0m\u001b[0m\n\u001b[0m\u001b[0;32m      3\u001b[0m \u001b[1;33m\u001b[0m\u001b[0m\n\u001b[0;32m      4\u001b[0m \u001b[1;33m\u001b[0m\u001b[0m\n\u001b[0;32m      5\u001b[0m \u001b[1;32mwhile\u001b[0m \u001b[1;32mTrue\u001b[0m\u001b[1;33m:\u001b[0m\u001b[1;33m\u001b[0m\u001b[1;33m\u001b[0m\u001b[0m\n",
      "\u001b[1;31mAttributeError\u001b[0m: module 'cv2.cv2' has no attribute 'bgsegm'"
     ]
    }
   ],
   "source": [
    "capture = cv2.VideoCapture('vtest.avi')\n",
    "foreground_background = cv2.bgsegm.createBackgroundSubtractorMOG()\n",
    "\n",
    "\n",
    "while True:\n",
    "    ret, frame = capture.read()\n",
    "    \n",
    "    if frame is None:\n",
    "        break\n",
    "    fgmask = foreground_background.apply(frame)\n",
    "    \n",
    "    cv2.imshow('Without Background', fgmask)\n",
    "    cv2.imshow('Frames', frame)\n",
    "    \n",
    "    keyboard = cv2.waitKey(30)\n",
    "    \n",
    "    if keyboard == 'q' or keyboard == 27:\n",
    "        break\n",
    "    \n",
    "capture.release()\n",
    "cv2.destroyAllWindows()"
   ]
  },
  {
   "cell_type": "code",
   "execution_count": 15,
   "metadata": {},
   "outputs": [
    {
     "ename": "AttributeError",
     "evalue": "module 'cv2.cv2' has no attribute 'bgsegm'",
     "output_type": "error",
     "traceback": [
      "\u001b[1;31m---------------------------------------------------------------------------\u001b[0m",
      "\u001b[1;31mAttributeError\u001b[0m                            Traceback (most recent call last)",
      "\u001b[1;32m<ipython-input-15-ae2610e27a9c>\u001b[0m in \u001b[0;36m<module>\u001b[1;34m\u001b[0m\n\u001b[0;32m      1\u001b[0m \u001b[0mcapture\u001b[0m \u001b[1;33m=\u001b[0m \u001b[0mcv2\u001b[0m\u001b[1;33m.\u001b[0m\u001b[0mVideoCapture\u001b[0m\u001b[1;33m(\u001b[0m\u001b[1;34m'vtest.avi'\u001b[0m\u001b[1;33m)\u001b[0m\u001b[1;33m\u001b[0m\u001b[1;33m\u001b[0m\u001b[0m\n\u001b[1;32m----> 2\u001b[1;33m \u001b[0mforeground_background\u001b[0m \u001b[1;33m=\u001b[0m \u001b[0mcv2\u001b[0m\u001b[1;33m.\u001b[0m\u001b[0mbgsegm\u001b[0m\u001b[1;33m.\u001b[0m\u001b[0mcreateBackgroundSubtractorGMG\u001b[0m\u001b[1;33m(\u001b[0m\u001b[0mdetectShadows\u001b[0m \u001b[1;33m=\u001b[0m \u001b[1;32mFalse\u001b[0m\u001b[1;33m)\u001b[0m\u001b[1;33m\u001b[0m\u001b[1;33m\u001b[0m\u001b[0m\n\u001b[0m\u001b[0;32m      3\u001b[0m \u001b[1;33m\u001b[0m\u001b[0m\n\u001b[0;32m      4\u001b[0m \u001b[1;33m\u001b[0m\u001b[0m\n\u001b[0;32m      5\u001b[0m \u001b[1;32mwhile\u001b[0m \u001b[1;32mTrue\u001b[0m\u001b[1;33m:\u001b[0m\u001b[1;33m\u001b[0m\u001b[1;33m\u001b[0m\u001b[0m\n",
      "\u001b[1;31mAttributeError\u001b[0m: module 'cv2.cv2' has no attribute 'bgsegm'"
     ]
    }
   ],
   "source": [
    "capture = cv2.VideoCapture('vtest.avi')\n",
    "foreground_background = cv2.bgsegm.createBackgroundSubtractorGMG(detectShadows = False)\n",
    "\n",
    "\n",
    "while True:\n",
    "    ret, frame = capture.read()\n",
    "    \n",
    "    if frame is None:\n",
    "        break\n",
    "    fgmask = foreground_background.apply(frame)\n",
    "    \n",
    "    cv2.imshow('Without Background', fgmask)\n",
    "    cv2.imshow('Frames', frame)\n",
    "    \n",
    "    keyboard = cv2.waitKey(30)\n",
    "    \n",
    "    if keyboard == 'q' or keyboard == 27:\n",
    "        break\n",
    "    \n",
    "capture.release()\n",
    "cv2.destroyAllWindows()"
   ]
  },
  {
   "cell_type": "code",
   "execution_count": 19,
   "metadata": {},
   "outputs": [],
   "source": [
    "capture = cv2.VideoCapture('vtest.avi')\n",
    "foreground_background = cv2.createBackgroundSubtractorMOG2(detectShadows = False)\n",
    "\n",
    "kernal = cv2.getStructuringElement(cv2.MORPH_ELLIPSE, (3, 3))\n",
    "\n",
    "while True:\n",
    "    ret, frame = capture.read()\n",
    "    \n",
    "    if frame is None:\n",
    "        break\n",
    "    fgmask = foreground_background.apply(frame)\n",
    "    fgmask = cv2.morphologyEx(fgmask, cv2.MORPH_OPEN, kernal)\n",
    "    \n",
    "    \n",
    "    cv2.imshow('Without Background', fgmask)\n",
    "    cv2.imshow('Frames', frame)\n",
    "    \n",
    "    keyboard = cv2.waitKey(30)\n",
    "    \n",
    "    if keyboard == 'q' or keyboard == 27:\n",
    "        break\n",
    "    \n",
    "capture.release()\n",
    "cv2.destroyAllWindows()"
   ]
  },
  {
   "cell_type": "code",
   "execution_count": 21,
   "metadata": {},
   "outputs": [],
   "source": [
    "capture = cv2.VideoCapture('vtest.avi')\n",
    "foreground_background = cv2.createBackgroundSubtractorKNN(detectShadows=False)\n",
    "\n",
    "\n",
    "while True:\n",
    "    ret, frame = capture.read()\n",
    "    \n",
    "    if frame is None:\n",
    "        break\n",
    "    fgmask = foreground_background.apply(frame)\n",
    "    \n",
    "    cv2.imshow('Without Background', fgmask)\n",
    "    cv2.imshow('Frames', frame)\n",
    "    \n",
    "    keyboard = cv2.waitKey(30)\n",
    "    \n",
    "    if keyboard == 'q' or keyboard == 27:\n",
    "        break\n",
    "    \n",
    "capture.release()\n",
    "cv2.destroyAllWindows()"
   ]
  },
  {
   "cell_type": "code",
   "execution_count": null,
   "metadata": {},
   "outputs": [],
   "source": []
  }
 ],
 "metadata": {
  "kernelspec": {
   "display_name": "Python 3",
   "language": "python",
   "name": "python3"
  },
  "language_info": {
   "codemirror_mode": {
    "name": "ipython",
    "version": 3
   },
   "file_extension": ".py",
   "mimetype": "text/x-python",
   "name": "python",
   "nbconvert_exporter": "python",
   "pygments_lexer": "ipython3",
   "version": "3.7.6"
  }
 },
 "nbformat": 4,
 "nbformat_minor": 4
}
