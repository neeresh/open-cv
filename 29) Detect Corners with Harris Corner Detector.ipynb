{
 "cells": [
  {
   "cell_type": "code",
   "execution_count": 1,
   "metadata": {},
   "outputs": [],
   "source": [
    "# corners are the region in the image with large variations and intensity in all the directions.\n",
    "# Steps:-\n",
    "# 1) Determine which windows produce very large variations in intensity when we moved in both X and Y directions\n",
    "# 2) With each such window found, a score R is computed.\n",
    "# 3) After applying a threshold to this score, important corners are selected and marked."
   ]
  },
  {
   "cell_type": "code",
   "execution_count": 2,
   "metadata": {},
   "outputs": [],
   "source": [
    "import cv2\n",
    "import numpy as np"
   ]
  },
  {
   "cell_type": "code",
   "execution_count": 11,
   "metadata": {},
   "outputs": [],
   "source": [
    "image = cv2.imread('chessboard.png')\n",
    "#cv2.imshow('Image', image)\n",
    "gray = cv2.cvtColor(image, cv2.COLOR_BGR2GRAY)\n",
    "\n",
    "gray = np.float32(gray)\n",
    "# cornerHarris takes the gray scale image in float32 format only so above we coverted gray image to float32\n",
    "dst = cv2.cornerHarris(gray, 2, 3, 0.04)\n",
    "# image = input image should of float32\n",
    "# blockSize = It is the size of neighbourhood considered for corner detection\n",
    "# ksize = Aperture parameter of Sobel derivate used.\n",
    "# k = Harris detector free parameter in the equation.\n",
    "\n",
    "\n",
    "dst = cv2.dilate(dst, None)\n",
    "\n",
    "\n",
    "image[dst > 0.01 * dst.max()] = (0, 0, 255)\n",
    "\n",
    "cv2.imshow('Corner Harris', image)\n",
    "\n",
    "if cv2.waitKey(0) & 0xff == 27:\n",
    "    cv2.destroyAllWindows()"
   ]
  },
  {
   "cell_type": "code",
   "execution_count": null,
   "metadata": {},
   "outputs": [],
   "source": []
  }
 ],
 "metadata": {
  "kernelspec": {
   "display_name": "Python 3",
   "language": "python",
   "name": "python3"
  },
  "language_info": {
   "codemirror_mode": {
    "name": "ipython",
    "version": 3
   },
   "file_extension": ".py",
   "mimetype": "text/x-python",
   "name": "python",
   "nbconvert_exporter": "python",
   "pygments_lexer": "ipython3",
   "version": "3.7.6"
  }
 },
 "nbformat": 4,
 "nbformat_minor": 4
}
