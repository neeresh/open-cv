{
 "cells": [
  {
   "cell_type": "code",
   "execution_count": 1,
   "metadata": {},
   "outputs": [],
   "source": [
    "import cv2 "
   ]
  },
  {
   "cell_type": "code",
   "execution_count": 2,
   "metadata": {},
   "outputs": [],
   "source": [
    "# Reading the images\n",
    "\n",
    "#syntax = cv2.imread(\"image_path\", flag)\n",
    "# flag = 1 (RGB)\n",
    "# flag = 0 (gray scale)\n",
    "# flag = -1 (loads images as such including as alpha channels)\n",
    "\n",
    "img_grayscale = cv2.imread('naruto and sasuke.jpg', 0)"
   ]
  },
  {
   "cell_type": "code",
   "execution_count": 3,
   "metadata": {},
   "outputs": [],
   "source": [
    "image_rgb = cv2.imread('naruto and sasuke.jpg', 1)"
   ]
  },
  {
   "cell_type": "code",
   "execution_count": 4,
   "metadata": {},
   "outputs": [],
   "source": [
    "image = cv2.imread('naruto and sasuke.jpg', -1)"
   ]
  },
  {
   "cell_type": "code",
   "execution_count": 5,
   "metadata": {},
   "outputs": [],
   "source": [
    "# syntax = cv2.imshow(\"image_window_name\", image_variable)\n",
    "\n",
    "cv2.imshow('Nauto and Sasuke', img_grayscale)\n",
    "cv2.waitKey(7000)\n",
    "cv2.destroyAllWindows()"
   ]
  },
  {
   "cell_type": "code",
   "execution_count": 6,
   "metadata": {},
   "outputs": [],
   "source": [
    "cv2.imshow('Naruto and Sasuke', image_rgb)\n",
    "cv2.waitKey(7000)\n",
    "cv2.destroyAllWindows()"
   ]
  },
  {
   "cell_type": "code",
   "execution_count": 7,
   "metadata": {},
   "outputs": [],
   "source": [
    "cv2.imshow('Naruto and Sasuke', image)\n",
    "cv2.waitKey(7000)\n",
    "cv2.destroyAllWindows()"
   ]
  },
  {
   "cell_type": "code",
   "execution_count": 8,
   "metadata": {},
   "outputs": [],
   "source": [
    "# waitKey(0) = window is running until we manually close\n",
    "cv2.imshow('Naruto and Sasuke', image_rgb)\n",
    "cv2.waitKey(0)\n",
    "cv2.destroyAllWindows()"
   ]
  },
  {
   "cell_type": "code",
   "execution_count": 11,
   "metadata": {},
   "outputs": [
    {
     "data": {
      "text/plain": [
       "True"
      ]
     },
     "execution_count": 11,
     "metadata": {},
     "output_type": "execute_result"
    }
   ],
   "source": [
    "# Writing (saving the image)\n",
    "cv2.imwrite('Naruto and Sasuke (copy).png',image)"
   ]
  },
  {
   "cell_type": "code",
   "execution_count": null,
   "metadata": {},
   "outputs": [],
   "source": []
  },
  {
   "cell_type": "code",
   "execution_count": 18,
   "metadata": {},
   "outputs": [],
   "source": [
    "# Getting things together\n",
    "\n",
    "image = cv2.imread('naruto and sasuke.jpg', 1)"
   ]
  },
  {
   "cell_type": "code",
   "execution_count": 25,
   "metadata": {},
   "outputs": [],
   "source": [
    "cv2.imshow('Naruto and Sasuke', image)\n",
    "\n",
    "key = cv2.waitKey(0)\n",
    "\n",
    "if key == 27:\n",
    "    cv2.destroyAllWindows()\n",
    "elif key == ord('s'):\n",
    "    cv2.imwrite('Naruto and Sasuke (copy1).jpg', image)\n",
    "    cv2.destroyAllWindows()"
   ]
  },
  {
   "cell_type": "code",
   "execution_count": null,
   "metadata": {},
   "outputs": [],
   "source": []
  }
 ],
 "metadata": {
  "kernelspec": {
   "display_name": "Python 3",
   "language": "python",
   "name": "python3"
  },
  "language_info": {
   "codemirror_mode": {
    "name": "ipython",
    "version": 3
   },
   "file_extension": ".py",
   "mimetype": "text/x-python",
   "name": "python",
   "nbconvert_exporter": "python",
   "pygments_lexer": "ipython3",
   "version": "3.7.6"
  }
 },
 "nbformat": 4,
 "nbformat_minor": 4
}
