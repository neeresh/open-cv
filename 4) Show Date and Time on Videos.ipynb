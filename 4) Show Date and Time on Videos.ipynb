{
 "cells": [
  {
   "cell_type": "code",
   "execution_count": 1,
   "metadata": {},
   "outputs": [],
   "source": [
    "import numpy as np\n",
    "import cv2"
   ]
  },
  {
   "cell_type": "code",
   "execution_count": 2,
   "metadata": {},
   "outputs": [],
   "source": [
    "# Showing width and height of the screen\n",
    "\n",
    "capture = cv2.VideoCapture(0)\n",
    "\n",
    "while(capture.isOpened()):\n",
    "    ret, frames = capture.read()\n",
    "    \n",
    "    if ret == True:\n",
    "        font = cv2.FONT_HERSHEY_SIMPLEX\n",
    "        text = 'Width: ' + str(capture.get(3)) + ' Height:' + str(capture.get(4))\n",
    "        \n",
    "        frames = cv2.putText(frames, text, (10, 50), font, 1, (0, 255, 255), 1, cv2.LINE_AA)\n",
    "        cv2.imshow('frames', frames)\n",
    "        \n",
    "        if cv2.waitKey(1) & 0xFF == ord('q'):\n",
    "            break\n",
    "    else:\n",
    "        break\n",
    "\n",
    "capture.release()\n",
    "cv2.destroyAllWindows()"
   ]
  },
  {
   "cell_type": "code",
   "execution_count": null,
   "metadata": {},
   "outputs": [],
   "source": []
  },
  {
   "cell_type": "code",
   "execution_count": 3,
   "metadata": {},
   "outputs": [],
   "source": [
    "import datetime\n",
    "\n",
    "capture = cv2.VideoCapture(0)\n",
    "\n",
    "while(capture.isOpened()):\n",
    "    ret, frames = capture.read()\n",
    "    \n",
    "    if ret == True:\n",
    "        \n",
    "        text = str(datetime.datetime.now())\n",
    "        \n",
    "        frames = cv2.putText(frames, text, (10, 50), cv2.FONT_HERSHEY_DUPLEX, 1, (255, 255, 0), 2, cv2.LINE_AA)\n",
    "        cv2.imshow('Video', frames)\n",
    "        \n",
    "        if cv2.waitKey(1) & 0xFF == ord('q'):\n",
    "            break\n",
    "    else:\n",
    "        break\n",
    "        \n",
    "capture.release()\n",
    "cv2.destroyAllWindows()"
   ]
  },
  {
   "cell_type": "code",
   "execution_count": null,
   "metadata": {},
   "outputs": [],
   "source": []
  }
 ],
 "metadata": {
  "kernelspec": {
   "display_name": "Python 3",
   "language": "python",
   "name": "python3"
  },
  "language_info": {
   "codemirror_mode": {
    "name": "ipython",
    "version": 3
   },
   "file_extension": ".py",
   "mimetype": "text/x-python",
   "name": "python",
   "nbconvert_exporter": "python",
   "pygments_lexer": "ipython3",
   "version": "3.7.6"
  }
 },
 "nbformat": 4,
 "nbformat_minor": 4
}
