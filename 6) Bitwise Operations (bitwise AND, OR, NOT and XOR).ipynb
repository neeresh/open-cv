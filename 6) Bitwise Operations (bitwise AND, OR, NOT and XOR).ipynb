{
 "cells": [
  {
   "cell_type": "code",
   "execution_count": 1,
   "metadata": {},
   "outputs": [],
   "source": [
    "import numpy as np\n",
    "import cv2"
   ]
  },
  {
   "cell_type": "code",
   "execution_count": 2,
   "metadata": {},
   "outputs": [],
   "source": [
    "image1 = np.zeros([250, 500, 3], np.uint8)\n",
    "image2 = np.zeros([250, 500, 3], np.uint8)\n",
    "\n",
    "image_1 = cv2.rectangle(image1, (0, 0), (250 , 250), (255, 255, 255), -1)\n",
    "\n",
    "image_2 = cv2.rectangle(image2, (200, 0), (300, 100), (255, 255, 255), -1)\n",
    "cv2.imshow('Image1', image_1)\n",
    "cv2.imshow('Image2', image_2)\n",
    "\n",
    "bitAnd = cv2.bitwise_and(image_2, image_1)\n",
    "bitOr = cv2.bitwise_or(image_2, image_1)\n",
    "bitXOR = cv2.bitwise_xor(image_2, image_1)\n",
    "bitNot1 = cv2.bitwise_not(image_1)\n",
    "bitNot2 = cv2.bitwise_not(image_2)\n",
    "\n",
    "cv2.imshow('bitAnd', bitAnd)\n",
    "cv2.imshow('bitOR', bitOr)\n",
    "cv2.imshow('bitXOR', bitXOR)\n",
    "cv2.imshow('bitNOT1', bitNot1)\n",
    "cv2.imshow('bitNOT2', bitNot2)\n",
    "\n",
    "\n",
    "cv2.waitKey(0)\n",
    "cv2.destroyAllWindows()"
   ]
  },
  {
   "cell_type": "code",
   "execution_count": null,
   "metadata": {},
   "outputs": [],
   "source": []
  },
  {
   "cell_type": "code",
   "execution_count": null,
   "metadata": {},
   "outputs": [],
   "source": []
  }
 ],
 "metadata": {
  "kernelspec": {
   "display_name": "Python 3",
   "language": "python",
   "name": "python3"
  },
  "language_info": {
   "codemirror_mode": {
    "name": "ipython",
    "version": 3
   },
   "file_extension": ".py",
   "mimetype": "text/x-python",
   "name": "python",
   "nbconvert_exporter": "python",
   "pygments_lexer": "ipython3",
   "version": "3.7.6"
  }
 },
 "nbformat": 4,
 "nbformat_minor": 4
}
