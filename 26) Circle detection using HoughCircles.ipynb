{
 "cells": [
  {
   "cell_type": "code",
   "execution_count": 1,
   "metadata": {},
   "outputs": [],
   "source": [
    "import numpy as np\n",
    "import cv2\n",
    "import matplotlib.pyplot as plt"
   ]
  },
  {
   "cell_type": "code",
   "execution_count": 10,
   "metadata": {},
   "outputs": [],
   "source": [
    "image = cv2.imread('smarties.png')\n",
    "\n",
    "output = image.copy()\n",
    "gray = cv2.cvtColor(output, cv2.COLOR_BGR2GRAY)\n",
    "blur = cv2.medianBlur(gray, 5)\n",
    "\n",
    "# dp = inverse ratio of accumulator resolution to the image resolution \n",
    "# when dp = 1 accumulator has the same resolution as the input image \n",
    "# when dp = 2 accumulator has the half as width and the height\n",
    "# minDist = minimum distance between the centers of the deteceted circles\n",
    "# param1 & param2 = specific to the method cv2.HOUGH_GRADIENT \n",
    "# minRadius = min circle radius\n",
    "# maxRadius = max circle radius \n",
    "circles = cv2.HoughCircles(blur, cv2.HOUGH_GRADIENT, 1, minDist=20, param1=50, param2=30, minRadius=0, maxRadius=0)\n",
    "\n",
    "# converting circle values to integer\n",
    "detected_circles = np.uint16(np.around(circles))\n",
    "for (x, y, r) in detected_circles[0, :]:\n",
    "    cv2.circle(output, (x, y), r, (0, 255, 255), 3)\n",
    "    cv2.circle(output, (x, y), 3, (0, 255, 0), 2)\n",
    "\n",
    "cv2.imshow('Image', output)\n",
    "cv2.waitKey(0)\n",
    "cv2.destroyAllWindows()"
   ]
  },
  {
   "cell_type": "code",
   "execution_count": null,
   "metadata": {},
   "outputs": [],
   "source": []
  },
  {
   "cell_type": "code",
   "execution_count": 12,
   "metadata": {},
   "outputs": [],
   "source": [
    "image = cv2.imread('shapes.jpg')\n",
    "\n",
    "output = image.copy()\n",
    "gray = cv2.cvtColor(output, cv2.COLOR_BGR2GRAY)\n",
    "blur = cv2.medianBlur(gray, 5)\n",
    "\n",
    "# dp = inverse ratio of accumulator resolution to the image resolution \n",
    "# when dp = 1 accumulator has the same resolution as the input image \n",
    "# when dp = 2 accumulator has the half as width and the height\n",
    "# minDist = minimum distance between the centers of the deteceted circles\n",
    "# param1 & param2 = specific to the method cv2.HOUGH_GRADIENT \n",
    "# minRadius = min circle radius\n",
    "# maxRadius = max circle radius \n",
    "circles = cv2.HoughCircles(blur, cv2.HOUGH_GRADIENT, 1, minDist=20, param1=50, param2=30, minRadius=0, maxRadius=0)\n",
    "\n",
    "# converting circle values to integer\n",
    "detected_circles = np.uint16(np.around(circles))\n",
    "for (x, y, r) in detected_circles[0, :]:\n",
    "    cv2.circle(output, (x, y), r, (0, 255, 255), 3)\n",
    "    cv2.circle(output, (x, y), 3, (0, 255, 0), 2)\n",
    "\n",
    "cv2.imshow('Image', output)\n",
    "cv2.waitKey(0)\n",
    "cv2.destroyAllWindows()"
   ]
  },
  {
   "cell_type": "code",
   "execution_count": null,
   "metadata": {},
   "outputs": [],
   "source": []
  },
  {
   "cell_type": "code",
   "execution_count": null,
   "metadata": {},
   "outputs": [],
   "source": []
  }
 ],
 "metadata": {
  "kernelspec": {
   "display_name": "Python 3",
   "language": "python",
   "name": "python3"
  },
  "language_info": {
   "codemirror_mode": {
    "name": "ipython",
    "version": 3
   },
   "file_extension": ".py",
   "mimetype": "text/x-python",
   "name": "python",
   "nbconvert_exporter": "python",
   "pygments_lexer": "ipython3",
   "version": "3.7.6"
  }
 },
 "nbformat": 4,
 "nbformat_minor": 4
}
