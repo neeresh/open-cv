{
 "cells": [
  {
   "cell_type": "code",
   "execution_count": 1,
   "metadata": {},
   "outputs": [],
   "source": [
    "# Pyramid, or pyramid representation, is a type of multi-scale signal representation developed by the computer vision, \n",
    "# image processing and signal processing communities, in which a signal or an image is subjected \n",
    "# to repeated smoothing and subsampling.\n",
    "\n",
    "# Two types:- 1) gaussian pyramid and 2) laplacian pyramid"
   ]
  },
  {
   "cell_type": "code",
   "execution_count": 2,
   "metadata": {},
   "outputs": [],
   "source": [
    "import cv2\n",
    "\n",
    "image = cv2.imread('lena.jpg')\n",
    "\n",
    "lr = cv2.pyrDown(image)\n",
    "lr1 = cv2.pyrDown(lr)\n",
    "\n",
    "hr = cv2.pyrUp(image)\n",
    "hr2 = cv2.pyrUp(hr)\n",
    "\n",
    "cv2.imshow(\"Original Image\", image)\n",
    "cv2.imshow(\"pyrDown\", lr)\n",
    "cv2.imshow(\"pyrDownAgain\", lr1)\n",
    "cv2.imshow(\"pyrUp\", hr)\n",
    "cv2.imshow(\"pyrUpAgain\", hr2)\n",
    "cv2.waitKey(0)\n",
    "cv2.destroyAllWindows()"
   ]
  },
  {
   "cell_type": "code",
   "execution_count": 3,
   "metadata": {},
   "outputs": [],
   "source": [
    "# 1) Gaussiann pyramid :- Repeat filtering and subsampling of an image"
   ]
  },
  {
   "cell_type": "code",
   "execution_count": 3,
   "metadata": {},
   "outputs": [],
   "source": [
    "layer = image.copy()\n",
    "gaussian_pyramid = [layer]\n",
    "\n",
    "for i in range(6):\n",
    "    layer = cv2.pyrDown(layer)\n",
    "    gaussian_pyramid.append(layer)\n",
    "    cv2.imshow(str(i), layer)\n",
    "\n",
    "cv2.imshow('Original', image)\n",
    "cv2.waitKey(0)\n",
    "cv2.destroyAllWindows()"
   ]
  },
  {
   "cell_type": "code",
   "execution_count": 5,
   "metadata": {},
   "outputs": [],
   "source": [
    "# 2) A level in Laplacian pyramid is formed by the difference between the level in Gaussian pyramid\n",
    "# and expanded version of its upper level in gaussian pyramid"
   ]
  },
  {
   "cell_type": "code",
   "execution_count": 8,
   "metadata": {},
   "outputs": [
    {
     "name": "stdout",
     "output_type": "stream",
     "text": [
      "0\n",
      "1\n",
      "2\n",
      "3\n",
      "4\n",
      "5\n",
      "--------------------------------\n",
      "5\n"
     ]
    },
    {
     "ename": "error",
     "evalue": "OpenCV(4.3.0) C:\\projects\\opencv-python\\opencv\\modules\\core\\src\\arithm.cpp:671: error: (-215:Assertion failed) type2 == CV_64F && (sz2.height == 1 || sz2.height == 4) in function 'cv::arithm_op'\n",
     "output_type": "error",
     "traceback": [
      "\u001b[1;31m---------------------------------------------------------------------------\u001b[0m",
      "\u001b[1;31merror\u001b[0m                                     Traceback (most recent call last)",
      "\u001b[1;32m<ipython-input-8-4bda280ee515>\u001b[0m in \u001b[0;36m<module>\u001b[1;34m\u001b[0m\n\u001b[0;32m     17\u001b[0m     \u001b[0mprint\u001b[0m\u001b[1;33m(\u001b[0m\u001b[0mi\u001b[0m\u001b[1;33m)\u001b[0m\u001b[1;33m\u001b[0m\u001b[1;33m\u001b[0m\u001b[0m\n\u001b[0;32m     18\u001b[0m     \u001b[0mgaussian_extended\u001b[0m \u001b[1;33m=\u001b[0m \u001b[0mcv2\u001b[0m\u001b[1;33m.\u001b[0m\u001b[0mpyrUp\u001b[0m\u001b[1;33m(\u001b[0m\u001b[0mgaussian_pyramid\u001b[0m\u001b[1;33m[\u001b[0m\u001b[0mi\u001b[0m\u001b[1;33m]\u001b[0m\u001b[1;33m)\u001b[0m \u001b[1;31m# expanded level of its upper gaussian pyramid\u001b[0m\u001b[1;33m\u001b[0m\u001b[1;33m\u001b[0m\u001b[0m\n\u001b[1;32m---> 19\u001b[1;33m     \u001b[0mlaplacian\u001b[0m \u001b[1;33m=\u001b[0m \u001b[0mcv2\u001b[0m\u001b[1;33m.\u001b[0m\u001b[0msubtract\u001b[0m\u001b[1;33m(\u001b[0m\u001b[0mgaussian_pyramid\u001b[0m\u001b[1;33m[\u001b[0m\u001b[0mi\u001b[0m\u001b[1;33m-\u001b[0m\u001b[1;36m1\u001b[0m\u001b[1;33m]\u001b[0m\u001b[1;33m,\u001b[0m \u001b[0mgaussian_extended\u001b[0m\u001b[1;33m)\u001b[0m\u001b[1;33m\u001b[0m\u001b[1;33m\u001b[0m\u001b[0m\n\u001b[0m\u001b[0;32m     20\u001b[0m     \u001b[0mcv2\u001b[0m\u001b[1;33m.\u001b[0m\u001b[0mimshow\u001b[0m\u001b[1;33m(\u001b[0m\u001b[0mstr\u001b[0m\u001b[1;33m(\u001b[0m\u001b[0mi\u001b[0m\u001b[1;33m)\u001b[0m\u001b[1;33m,\u001b[0m \u001b[0mlaplacian\u001b[0m\u001b[1;33m)\u001b[0m\u001b[1;33m\u001b[0m\u001b[1;33m\u001b[0m\u001b[0m\n\u001b[0;32m     21\u001b[0m \u001b[1;33m\u001b[0m\u001b[0m\n",
      "\u001b[1;31merror\u001b[0m: OpenCV(4.3.0) C:\\projects\\opencv-python\\opencv\\modules\\core\\src\\arithm.cpp:671: error: (-215:Assertion failed) type2 == CV_64F && (sz2.height == 1 || sz2.height == 4) in function 'cv::arithm_op'\n"
     ]
    }
   ],
   "source": [
    "layer = image.copy()\n",
    "\n",
    "gaussian_pyramid = [layer]\n",
    "\n",
    "for i in range(6):\n",
    "    print(i)\n",
    "    layer = cv2.pyrDown(layer)\n",
    "    gaussian_pyramid.append(layer)\n",
    "    cv2.imshow(str(i), layer)\n",
    "\n",
    "layer = gaussian_pyramid[5]\n",
    "cv2.imshow('Upper level gaussian pyramid', layer)\n",
    "lp = [layer]\n",
    "print(\"--------------------------------\")\n",
    "\n",
    "for i in range(5, 0, -1):\n",
    "    print(i)\n",
    "    gaussian_extended = cv2.pyrUp(gaussian_pyramid[i]) # expanded level of its upper gaussian pyramid\n",
    "    laplacian = cv2.subtract(gaussian_pyramid[i-1], gaussian_extended)\n",
    "    cv2.imshow(str(i), laplacian)\n",
    "\n",
    "cv2.imshow('Original', layer)\n",
    "cv2.waitKey(0)\n",
    "cv2.destroyAllWindows()"
   ]
  },
  {
   "cell_type": "code",
   "execution_count": 5,
   "metadata": {},
   "outputs": [
    {
     "name": "stdout",
     "output_type": "stream",
     "text": [
      "7\n",
      "--------------------------------\n",
      "5\n",
      "4\n",
      "3\n",
      "2\n",
      "1\n"
     ]
    }
   ],
   "source": [
    "layer = cv2.imread('lena.jpg')\n",
    "\n",
    "gaussian_pyramid = [layer]\n",
    "\n",
    "for i in range(6):\n",
    "    #print(i)\n",
    "    layer = cv2.pyrDown(layer)\n",
    "    gaussian_pyramid.append(layer)\n",
    "    cv2.imshow(str(i), layer)\n",
    "print(len(gaussian_pyramid))\n",
    "\n",
    "layer = gaussian_pyramid[5]\n",
    "cv2.imshow('Upper level gaussian pyramid', layer)\n",
    "lp = [layer]\n",
    "print(\"--------------------------------\")\n",
    "\n",
    "for i in range(5, 0, -1):\n",
    "    print(i)\n",
    "    gaussian_extended = cv2.pyrUp(gaussian_pyramid[i]) # expanded level of its upper gaussian pyramid\n",
    "    laplacian = cv2.subtract(gaussian_pyramid[i-1], gaussian_extended)\n",
    "    cv2.imshow(str(i), laplacian)\n",
    "\n",
    "cv2.imshow('Original', layer)\n",
    "cv2.waitKey(0)\n",
    "cv2.destroyAllWindows()"
   ]
  },
  {
   "cell_type": "code",
   "execution_count": 6,
   "metadata": {
    "scrolled": true
   },
   "outputs": [],
   "source": [
    "# Gaussian pyramid\n",
    "import cv2\n",
    "image = cv2.imread(\"messi5.jpg\")\n",
    "gaussian_pyramid = [image]\n",
    "\n",
    "for i in range(6):\n",
    "    image = cv2.pyrDown(image)\n",
    "    gaussian_pyramid.append(image)\n",
    "    cv2.imshow(str(i), image)\n",
    "    \n",
    "cv2.imshow(\"Original Image\", gaussian_pyramid[0])\n",
    "cv2.waitKey(0)\n",
    "cv2.destroyAllWindows()"
   ]
  },
  {
   "cell_type": "code",
   "execution_count": 9,
   "metadata": {},
   "outputs": [],
   "source": [
    "# laplacian Method\n",
    "# A level in Laplacian pyramid is formed by the difference between the level in Gaussian pyramid\n",
    "# and expanded version of its upper level in gaussian pyramid"
   ]
  },
  {
   "cell_type": "code",
   "execution_count": 7,
   "metadata": {},
   "outputs": [],
   "source": [
    "image = cv2.imread('lena.jpg')\n",
    "gaussian_pyramid = [image]\n",
    "\n",
    "for i in range(6):\n",
    "    image = cv2.pyrDown(image)\n",
    "    gaussian_pyramid.append(image)\n",
    "    cv2.imshow(str(i), image)\n",
    "\n",
    "for i in range(6, 0, -1):\n",
    "    gaussian_extended = cv2.pyrUp(gaussian_pyramid[i])\n",
    "    laplacian = cv2.subtract(gaussian_pyramid[i-1], gaussian_extended)\n",
    "    cv2.imshow(str(i), laplacian)\n",
    "    \n",
    "cv2.waitKey(0)\n",
    "cv2.destroyAllWindows()\n",
    "\n",
    "\n"
   ]
  },
  {
   "cell_type": "code",
   "execution_count": null,
   "metadata": {},
   "outputs": [],
   "source": []
  },
  {
   "cell_type": "code",
   "execution_count": null,
   "metadata": {},
   "outputs": [],
   "source": []
  }
 ],
 "metadata": {
  "kernelspec": {
   "display_name": "Python 3",
   "language": "python",
   "name": "python3"
  },
  "language_info": {
   "codemirror_mode": {
    "name": "ipython",
    "version": 3
   },
   "file_extension": ".py",
   "mimetype": "text/x-python",
   "name": "python",
   "nbconvert_exporter": "python",
   "pygments_lexer": "ipython3",
   "version": "3.7.6"
  }
 },
 "nbformat": 4,
 "nbformat_minor": 4
}
