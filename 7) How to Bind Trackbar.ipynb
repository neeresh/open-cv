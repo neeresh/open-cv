{
 "cells": [
  {
   "cell_type": "code",
   "execution_count": 3,
   "metadata": {},
   "outputs": [],
   "source": [
    "import numpy as np\n",
    "import cv2"
   ]
  },
  {
   "cell_type": "code",
   "execution_count": 8,
   "metadata": {},
   "outputs": [],
   "source": [
    "img = np.zeros([300, 512, 3], np.uint8)\n",
    "cv2.namedWindow('Test_image')\n",
    "\n",
    "def nothing(x):\n",
    "    print(x)\n",
    "\n",
    "cv2.createTrackbar('B', 'Image', 0, 255, nothing)\n",
    "cv2.createTrackbar('G', 'Image', 0, 255, nothing)\n",
    "cv2.createTrackbar('R', 'Image', 0, 255, nothing)\n",
    "\n",
    "while(1):\n",
    "    cv2.imshow('Image', img)\n",
    "    k = cv2.waitKey(1)\n",
    "    \n",
    "    if k == 27:\n",
    "        break\n",
    "    \n",
    "    b = cv2.getTrackbarPos('B', 'Image')\n",
    "    g = cv2.getTrackbarPos('G', 'Image')\n",
    "    r = cv2.getTrackbarPos('R', 'Image')\n",
    "    img[:] = [b, g, r]\n",
    "    \n",
    "    \n",
    "cv2.destroyAllWindows()"
   ]
  },
  {
   "cell_type": "code",
   "execution_count": null,
   "metadata": {},
   "outputs": [],
   "source": []
  },
  {
   "cell_type": "code",
   "execution_count": 9,
   "metadata": {},
   "outputs": [],
   "source": [
    "img = np.zeros([300, 512, 3], np.uint8)\n",
    "cv2.namedWindow('Image')\n",
    "\n",
    "def nothing(x):\n",
    "    #print(x)\n",
    "    pass\n",
    "\n",
    "switch = '0:OFF\\n1:ON'\n",
    "cv2.createTrackbar(switch, 'Image', 0, 1, nothing)\n",
    "cv2.createTrackbar('B', 'Image', 0, 255, nothing)\n",
    "cv2.createTrackbar('G', 'Image', 0, 255, nothing)\n",
    "cv2.createTrackbar('R', 'Image', 0, 255, nothing)\n",
    "\n",
    "while(1):\n",
    "    cv2.imshow('Image', img)\n",
    "    \n",
    "    k = cv2.waitKey(1)\n",
    "    if k == 27:\n",
    "        break\n",
    "        \n",
    "    b = cv2.getTrackbarPos('B', 'Image')\n",
    "    g = cv2.getTrackbarPos('G', 'Image')\n",
    "    r = cv2.getTrackbarPos('R', 'Image')\n",
    "    s = cv2.getTrackbarPos(switch, 'Image')\n",
    "    \n",
    "    if s == 0:\n",
    "        img[:] = 0\n",
    "    else:\n",
    "        img[:] = [b, g, r]\n",
    "    \n",
    "cv2.destroyAllWindows()\n"
   ]
  },
  {
   "cell_type": "code",
   "execution_count": null,
   "metadata": {},
   "outputs": [],
   "source": []
  },
  {
   "cell_type": "code",
   "execution_count": 6,
   "metadata": {},
   "outputs": [],
   "source": [
    "import numpy as np\n",
    "import cv2 as cv"
   ]
  },
  {
   "cell_type": "code",
   "execution_count": 7,
   "metadata": {},
   "outputs": [],
   "source": [
    "def nothing(x):\n",
    "    pass\n",
    "\n",
    "# Create a black image, a window\n",
    "cv.namedWindow('image')\n",
    "\n",
    "switch = 'color/gray'\n",
    "cv.createTrackbar(switch, 'image', 0, 1, nothing)\n",
    "\n",
    "while(1):\n",
    "    img = cv.imread('lena.jpg')\n",
    "\n",
    "    k = cv.waitKey(1) & 0xFF\n",
    "    if k == 27:\n",
    "        break\n",
    "\n",
    "    s = cv.getTrackbarPos(switch, 'image')\n",
    "\n",
    "    if s == 0:\n",
    "       pass\n",
    "    else:\n",
    "       img = cv.cvtColor(img, cv.COLOR_BGR2GRAY)\n",
    "\n",
    "    img = cv.imshow('image',img)\n",
    "\n",
    "cv.destroyAllWindows()"
   ]
  },
  {
   "cell_type": "code",
   "execution_count": null,
   "metadata": {},
   "outputs": [],
   "source": []
  },
  {
   "cell_type": "code",
   "execution_count": null,
   "metadata": {},
   "outputs": [],
   "source": []
  }
 ],
 "metadata": {
  "kernelspec": {
   "display_name": "Python 3",
   "language": "python",
   "name": "python3"
  },
  "language_info": {
   "codemirror_mode": {
    "name": "ipython",
    "version": 3
   },
   "file_extension": ".py",
   "mimetype": "text/x-python",
   "name": "python",
   "nbconvert_exporter": "python",
   "pygments_lexer": "ipython3",
   "version": "3.7.6"
  }
 },
 "nbformat": 4,
 "nbformat_minor": 4
}
