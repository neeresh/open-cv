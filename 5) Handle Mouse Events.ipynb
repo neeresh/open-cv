{
 "cells": [
  {
   "cell_type": "code",
   "execution_count": 1,
   "metadata": {},
   "outputs": [],
   "source": [
    "import numpy as np\n",
    "import cv2"
   ]
  },
  {
   "cell_type": "code",
   "execution_count": 2,
   "metadata": {},
   "outputs": [
    {
     "name": "stdout",
     "output_type": "stream",
     "text": [
      "['EVENT_FLAG_ALTKEY', 'EVENT_FLAG_CTRLKEY', 'EVENT_FLAG_LBUTTON', 'EVENT_FLAG_MBUTTON', 'EVENT_FLAG_RBUTTON', 'EVENT_FLAG_SHIFTKEY', 'EVENT_LBUTTONDBLCLK', 'EVENT_LBUTTONDOWN', 'EVENT_LBUTTONUP', 'EVENT_MBUTTONDBLCLK', 'EVENT_MBUTTONDOWN', 'EVENT_MBUTTONUP', 'EVENT_MOUSEHWHEEL', 'EVENT_MOUSEMOVE', 'EVENT_MOUSEWHEEL', 'EVENT_RBUTTONDBLCLK', 'EVENT_RBUTTONDOWN', 'EVENT_RBUTTONUP']\n"
     ]
    }
   ],
   "source": [
    "# Printing all events\n",
    "events = [i for i in dir(cv2) if 'EVENT' in i]\n",
    "print(events)"
   ]
  },
  {
   "cell_type": "code",
   "execution_count": 3,
   "metadata": {},
   "outputs": [
    {
     "name": "stdout",
     "output_type": "stream",
     "text": [
      "384 ,  213\n",
      "294 ,  283\n"
     ]
    }
   ],
   "source": [
    "def click_event(event, x, y, flags, params):\n",
    "    if event == cv2.EVENT_LBUTTONDOWN:\n",
    "        print(x, ', ', y)\n",
    "    \n",
    "        text = str(x) + ', ' + str(y)\n",
    "        \n",
    "        font = cv2.FONT_HERSHEY_TRIPLEX\n",
    "    \n",
    "        cv2.putText(image, text, (x, y), font, .5, (255,255,0), 1)\n",
    "        cv2.imshow('Image', image)\n",
    "        \n",
    "    if event == cv2.EVENT_RBUTTONDOWN:\n",
    "        blue = image[y, x, 0]\n",
    "        green = image[y, x, 1]\n",
    "        red = image[y, x, 2]\n",
    "        \n",
    "        font = cv2.FONT_HERSHEY_SCRIPT_COMPLEX\n",
    "        strBGR = str(blue) + ', ' + str(green) + ', ' + str(red)\n",
    "        \n",
    "        cv2.putText(image, strBGR, (x, y), font, .5, (255,255,0), 1)\n",
    "    \n",
    "#image = np.zeros([512, 512, 3], np.uint8)\n",
    "image = cv2.imread('lena.jpg', 1)\n",
    "cv2.imshow('Image', image)\n",
    "\n",
    "cv2.setMouseCallback('Image', click_event)\n",
    "\n",
    "cv2.waitKey(0)\n",
    "cv2.destroyAllWindows()"
   ]
  },
  {
   "cell_type": "code",
   "execution_count": null,
   "metadata": {},
   "outputs": [],
   "source": []
  },
  {
   "cell_type": "code",
   "execution_count": 4,
   "metadata": {},
   "outputs": [],
   "source": [
    "def click_event(event, x, y, flags, params):\n",
    "    if event == cv2.EVENT_LBUTTONDOWN:\n",
    "        cv2.circle(image, (x,y), 3, (255, 255, 255), -1)\n",
    "        points.append((x, y))\n",
    "        \n",
    "        if len(points) >= 2:\n",
    "            cv2.line(image, points[-1], points[-2], (255, 0, 255), 5)\n",
    "        \n",
    "        cv2.imshow('Image', image)\n",
    "\n",
    "image = np.zeros([512, 512, 3], np.uint8)\n",
    "cv2.imshow('Image', image)\n",
    "\n",
    "points = []\n",
    "cv2.setMouseCallback('Image', click_event)\n",
    "cv2.waitKey(0)\n",
    "cv2.destroyAllWindows()"
   ]
  },
  {
   "cell_type": "code",
   "execution_count": null,
   "metadata": {},
   "outputs": [],
   "source": []
  },
  {
   "cell_type": "code",
   "execution_count": 12,
   "metadata": {},
   "outputs": [
    {
     "name": "stdout",
     "output_type": "stream",
     "text": [
      "127\n",
      "135\n",
      "229\n",
      "------------------------\n",
      "157\n",
      "171\n",
      "237\n",
      "------------------------\n",
      "130\n",
      "139\n",
      "229\n",
      "------------------------\n",
      "135\n",
      "184\n",
      "240\n",
      "------------------------\n",
      "126\n",
      "163\n",
      "231\n",
      "------------------------\n"
     ]
    }
   ],
   "source": [
    "def click_event(event, x, y, flags, param):\n",
    "    if event == cv2.EVENT_LBUTTONDOWN:\n",
    "        blue = image[x, y, 0]\n",
    "        print(blue)\n",
    "        green = image[x, y, 1]\n",
    "        print(green)\n",
    "        red = image[x, y, 2]\n",
    "        print(red)\n",
    "        print('------------------------')\n",
    "        # Opens new window and shows the color which we select in the image\n",
    "        cv2.circle(image, (x, y), 3, (0, 0, 255), -1)\n",
    "        myColorImage = np.zeros((512, 512, 3), np.uint8)\n",
    "        myColorImage[:] = [blue, green, red]\n",
    "        \n",
    "        cv2.imshow('color', myColorImage)\n",
    "        \n",
    "image = cv2.imread('lena.jpg', 1)\n",
    "cv2.imshow('Image', image)\n",
    "cv2.setMouseCallback('Image', click_event)\n",
    "\n",
    "cv2.waitKey(0)\n",
    "cv2.destroyAllWindows()\n",
    "        "
   ]
  },
  {
   "cell_type": "code",
   "execution_count": null,
   "metadata": {},
   "outputs": [],
   "source": []
  },
  {
   "cell_type": "code",
   "execution_count": 9,
   "metadata": {},
   "outputs": [],
   "source": [
    "def click_event(event, x, y, flags, params):\n",
    "    if event == cv2.EVENT_LBUTTONDOWN:\n",
    "        cv2.circle(image, (x, y), 9, (0, 255, 255), 1, cv2.LINE_AA)\n",
    "        points.append((x, y))\n",
    "        \n",
    "        if len(points) >= 2:\n",
    "            cv2.line(image, points[-1], points[-2], (0, 255, 0), 1, cv2.LINE_AA)\n",
    "        cv2.imshow('Image', image)\n",
    "\n",
    "image = np.zeros([512, 512, 3], np.uint8)\n",
    "cv2.imshow('Image', image)\n",
    "points = []\n",
    "cv2.setMouseCallback('Image', click_event)\n",
    "cv2.waitKey(0)\n",
    "cv2.destroyAllWindows()"
   ]
  },
  {
   "cell_type": "code",
   "execution_count": null,
   "metadata": {},
   "outputs": [],
   "source": []
  },
  {
   "cell_type": "code",
   "execution_count": null,
   "metadata": {},
   "outputs": [],
   "source": []
  }
 ],
 "metadata": {
  "kernelspec": {
   "display_name": "Python 3",
   "language": "python",
   "name": "python3"
  },
  "language_info": {
   "codemirror_mode": {
    "name": "ipython",
    "version": 3
   },
   "file_extension": ".py",
   "mimetype": "text/x-python",
   "name": "python",
   "nbconvert_exporter": "python",
   "pygments_lexer": "ipython3",
   "version": "3.7.6"
  }
 },
 "nbformat": 4,
 "nbformat_minor": 4
}
