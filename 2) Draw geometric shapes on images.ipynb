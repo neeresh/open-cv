{
 "cells": [
  {
   "cell_type": "code",
   "execution_count": 1,
   "metadata": {},
   "outputs": [],
   "source": [
    "import numpy as np\n",
    "import cv2"
   ]
  },
  {
   "cell_type": "code",
   "execution_count": 2,
   "metadata": {},
   "outputs": [],
   "source": [
    "image = cv2.imread('lena.jpg', 1)\n",
    "cv2.imshow('Image', image)\n",
    "cv2.waitKey(0)\n",
    "cv2.destroyAllWindows()"
   ]
  },
  {
   "cell_type": "code",
   "execution_count": 3,
   "metadata": {},
   "outputs": [
    {
     "name": "stdout",
     "output_type": "stream",
     "text": [
      "<class 'numpy.ndarray'>\n"
     ]
    }
   ],
   "source": [
    "# Drawing a line on image\n",
    "# syntax = line(image, co-ordinate1, co-ordinate2, color, thickness)\n",
    "# co-ordinates in tuple\n",
    "# color = (blue_line, green_line, red_line)\n",
    "# thickness = number\n",
    "image = cv2.imread('lena.jpg', 1)\n",
    "#image = cv2.line(image, (0, 0), (255, 255), (255, 0, 0), 5)\n",
    "image = cv2.line(image, (0, 0), (255, 255), (0, 255, 0), 4)\n",
    "cv2.imshow('lena.jpg', image)\n",
    "cv2.waitKey(0)\n",
    "cv2.destroyAllWindows()"
   ]
  },
  {
   "cell_type": "code",
   "execution_count": null,
   "metadata": {},
   "outputs": [],
   "source": []
  },
  {
   "cell_type": "code",
   "execution_count": 4,
   "metadata": {},
   "outputs": [],
   "source": [
    "image = cv2.imread('lena.jpg', 1)\n",
    "image = cv2.arrowedLine(image, (0,255), (255,255), (255, 0, 0), 5)\n",
    "cv2.imshow('Image', image)\n",
    "cv2.waitKey(0)\n",
    "cv2.destroyAllWindows()"
   ]
  },
  {
   "cell_type": "code",
   "execution_count": null,
   "metadata": {},
   "outputs": [],
   "source": []
  },
  {
   "cell_type": "code",
   "execution_count": 5,
   "metadata": {},
   "outputs": [],
   "source": [
    "# Drawing rectangle\n",
    "image = cv2.imread('lena.jpg', 1)\n",
    "image = cv2.rectangle(image, (384, 0), (510, 128), (0, 255, 0), 4)\n",
    "cv2.imshow('Image', image)\n",
    "cv2.waitKey(0)\n",
    "cv2.destroyAllWindows()"
   ]
  },
  {
   "cell_type": "code",
   "execution_count": null,
   "metadata": {},
   "outputs": [],
   "source": []
  },
  {
   "cell_type": "code",
   "execution_count": 6,
   "metadata": {},
   "outputs": [],
   "source": [
    "# Drawing circle\n",
    "image = cv2.imread('lena.jpg', 1)\n",
    "image = cv2.circle(image, (255, 255), (90), (0, 0, 255), -1)\n",
    "cv2.imshow('Image', image)\n",
    "cv2.waitKey(0)\n",
    "cv2.destroyAllWindows()"
   ]
  },
  {
   "cell_type": "code",
   "execution_count": null,
   "metadata": {},
   "outputs": [],
   "source": []
  },
  {
   "cell_type": "code",
   "execution_count": 7,
   "metadata": {},
   "outputs": [],
   "source": [
    "# Putting Text\n",
    "image = cv2.imread('lena.jpg', 1)\n",
    "image = cv2.putText(image, 'OpenCV', (10, 510), cv2.FONT_HERSHEY_SCRIPT_SIMPLEX, 4, (0, 255, 0), 10, cv2.LINE_AA)\n",
    "cv2.imshow('Image', image)\n",
    "cv2.waitKey(0)\n",
    "cv2.destroyAllWindows()"
   ]
  },
  {
   "cell_type": "code",
   "execution_count": null,
   "metadata": {},
   "outputs": [],
   "source": []
  },
  {
   "cell_type": "code",
   "execution_count": 8,
   "metadata": {},
   "outputs": [],
   "source": [
    "# How to create image using numpy zeros()\n",
    "# creating black image\n",
    "# zeros([height, width, 3])\n",
    "image = np.zeros([512, 512, 3], np.uint8)\n",
    "\n",
    "# OR\n",
    "#image = cv2.imread('lena.jpg', 1)\n",
    "\n",
    "image = cv2.line(image, (0, 0), (255, 255), (0, 255, 0), 4)\n",
    "image = cv2.arrowedLine(image, (0,255), (255,255), (255, 0, 0), 5)\n",
    "image = cv2.rectangle(image, (384, 0), (510, 128), (0, 255, 0), 4)\n",
    "image = cv2.circle(image, (255, 255), (90), (0, 0, 255), 4)\n",
    "image = cv2.putText(image, 'OpenCV', (10, 510), cv2.FONT_HERSHEY_SCRIPT_SIMPLEX, 4, (0, 255, 0), 10, cv2.LINE_AA)\n",
    "\n",
    "cv2.imshow('Image', image)\n",
    "cv2.waitKey(0)\n",
    "cv2.destroyAllWindows()"
   ]
  },
  {
   "cell_type": "code",
   "execution_count": null,
   "metadata": {},
   "outputs": [],
   "source": []
  }
 ],
 "metadata": {
  "kernelspec": {
   "display_name": "Python 3",
   "language": "python",
   "name": "python3"
  },
  "language_info": {
   "codemirror_mode": {
    "name": "ipython",
    "version": 3
   },
   "file_extension": ".py",
   "mimetype": "text/x-python",
   "name": "python",
   "nbconvert_exporter": "python",
   "pygments_lexer": "ipython3",
   "version": "3.7.6"
  }
 },
 "nbformat": 4,
 "nbformat_minor": 4
}
