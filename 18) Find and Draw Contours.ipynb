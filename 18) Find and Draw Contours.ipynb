{
 "cells": [
  {
   "cell_type": "code",
   "execution_count": 1,
   "metadata": {},
   "outputs": [],
   "source": [
    "# contours is the curve joining all the continous points along the boundary which are having the same color or intensity\n",
    "# contours can be useful tool for shape analysis, object detection or object recognition\n",
    "# for better accuracy we genrally use the binary image to find the contour."
   ]
  },
  {
   "cell_type": "code",
   "execution_count": 2,
   "metadata": {},
   "outputs": [],
   "source": [
    "# first we genrate binary image and before finding contour we are going to apply threshold or canny edge detection on the image."
   ]
  },
  {
   "cell_type": "code",
   "execution_count": 3,
   "metadata": {},
   "outputs": [],
   "source": [
    "import numpy as np\n",
    "import cv2"
   ]
  },
  {
   "cell_type": "code",
   "execution_count": 20,
   "metadata": {},
   "outputs": [
    {
     "name": "stdout",
     "output_type": "stream",
     "text": [
      "9\n"
     ]
    }
   ],
   "source": [
    "image = cv2.imread('opencv-logo.png')\n",
    "image_gray = cv2.cvtColor(image, cv2.COLOR_BGR2GRAY)\n",
    "\n",
    "ret, thresh = cv2.threshold(image_gray, 127, 255, 0)\n",
    "\n",
    "contour, hierarchy = cv2.findContours(thresh, cv2.RETR_TREE, cv2.CHAIN_APPROX_NONE)\n",
    "\n",
    "print(len(contour))\n",
    "#print(contour[0])\n",
    "#print(len(contour[1]))\n",
    "\n",
    "# contour is a python list of all the coontours in the image. \n",
    "# Each individual contour is a numpy array of (x,y) coordinates of boundary points of the object.\n",
    "\n",
    "# -1 is to draw to all contours\n",
    "# instead of -1 we can use 1, 2, 3, ....8 to see individual contours. 8 is last because our contour length is 9\n",
    "cv2.drawContours(image, contour, -1, (0, 255, 255), 3)\n",
    "\n",
    "cv2.imshow('Image', image)\n",
    "cv2.imshow('Image_gray', image_gray)\n",
    "\n",
    "cv2.waitKey(0)\n",
    "cv2.destroyAllWindows()"
   ]
  },
  {
   "cell_type": "code",
   "execution_count": null,
   "metadata": {},
   "outputs": [],
   "source": []
  }
 ],
 "metadata": {
  "kernelspec": {
   "display_name": "Python 3",
   "language": "python",
   "name": "python3"
  },
  "language_info": {
   "codemirror_mode": {
    "name": "ipython",
    "version": 3
   },
   "file_extension": ".py",
   "mimetype": "text/x-python",
   "name": "python",
   "nbconvert_exporter": "python",
   "pygments_lexer": "ipython3",
   "version": "3.7.6"
  }
 },
 "nbformat": 4,
 "nbformat_minor": 4
}
