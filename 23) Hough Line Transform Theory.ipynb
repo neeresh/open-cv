{
 "cells": [
  {
   "cell_type": "code",
   "execution_count": 1,
   "metadata": {},
   "outputs": [],
   "source": [
    "# Hough Transform :- It is a technique to detect ang shape, if you can represent that shape in a \n",
    "# mathematical form. It can detect the shape even if it's broken or distored a little bit"
   ]
  },
  {
   "cell_type": "code",
   "execution_count": 2,
   "metadata": {},
   "outputs": [],
   "source": [
    "# A line in the image space can be expressed in two variables:-\n",
    "# 1) Cartesian co ordinate system, y = mx + c and 2) Polar co ordinate system, r = x cos(theta) + y sun(theta)."
   ]
  },
  {
   "cell_type": "code",
   "execution_count": 3,
   "metadata": {},
   "outputs": [],
   "source": [
    "# Cartesian equation in unable to represent the vertical lines so genrally we use polar co ordinate system."
   ]
  },
  {
   "cell_type": "code",
   "execution_count": 5,
   "metadata": {},
   "outputs": [],
   "source": [
    "# Hough transform Algorithm\n",
    "# 1) Edge detection is done example:- Canny edge detection.\n",
    "# 2) Mapping of edge points to the hough space and storage in an accumulator \n",
    "# 3) Interpretation of accumulator to yeild lies of infinte length. The interpreter is done by thresholding and possibly other \n",
    "#    constraints\n",
    "# 4) Conversion of infinte lines to finite lines."
   ]
  },
  {
   "cell_type": "code",
   "execution_count": 6,
   "metadata": {},
   "outputs": [],
   "source": [
    "# Opencv implementation\n",
    "# 1) Standard Hough line transform is by using HoughLines()\n",
    "# 2) Probabilistic Hough line transform is by using HoughLinesP()"
   ]
  },
  {
   "cell_type": "code",
   "execution_count": null,
   "metadata": {},
   "outputs": [],
   "source": []
  },
  {
   "cell_type": "code",
   "execution_count": 7,
   "metadata": {},
   "outputs": [],
   "source": [
    "import cv2\n",
    "import numpy as np"
   ]
  },
  {
   "cell_type": "code",
   "execution_count": 39,
   "metadata": {},
   "outputs": [
    {
     "name": "stdout",
     "output_type": "stream",
     "text": [
      "29\n"
     ]
    }
   ],
   "source": [
    "image = cv2.imread('sudoku.png')\n",
    "gray = cv2.cvtColor(image, cv2.COLOR_BGR2GRAY)\n",
    "edges = cv2.Canny(gray, 50, 150, apertureSize = 3)\n",
    "lines = cv2.HoughLines(edges, 1, np.pi/180, 200)\n",
    "# HoughLines(Image, rho(r), theta, threshold) \n",
    "# rho (r) is the distance resolution of the accumulator of the pixels normally it is 1\n",
    "# thetha is the angle resolution of accumulator of the radians\n",
    "# HoughLines returns the output vector of lines.\n",
    "print(len(lines))\n",
    "#print(lines)\n",
    "for line in lines:\n",
    "    rho, theta = line[0] # rho is the distance from the coordinate (topleft corner of the image)\n",
    "                         # theta is the line rotation angle in the radians\n",
    "    a = np.cos(theta)\n",
    "    b = np.sin(theta)\n",
    "    \n",
    "    x0 = a * rho\n",
    "    y0 = b * rho\n",
    "    # (x0, y0) gives origin (0,0) or top left corner of the image\n",
    "    \n",
    "    # x1 stores the rounded off value of ( r*cos(theta) - 1000 * sin(theta) )\n",
    "    x1 = int(x0 + 1000 * (-b))\n",
    "    \n",
    "    # y1 stores the rounded off value of ( r*sin(theta) + 1000 * cos(theta) )\n",
    "    y1 = int(y0 + 1000 * (a))\n",
    "    \n",
    "    # (x1, y1) gives the first coordinates\n",
    "    \n",
    "    # x2 stores the rounded off value of ( r*cos(theta) + 1000 * sin(theta) )\n",
    "    x2 = int(x0 - 1000 * (-b))\n",
    "    \n",
    "    # y2 stores the rounded off value of ( r*sin(theta) - 1000 * cos(theta) )\n",
    "    y2 = int(y0 - 1000 * (a))\n",
    "    \n",
    "    # (x2, y2) gives the second coordinates\n",
    "    \n",
    "    cv2.line(image, (x1, y1), (x2, y2), (0, 0, 255), 2)\n",
    "    \n",
    "cv2.imshow('Edge', edges)\n",
    "cv2.imshow('Image', image)\n",
    "cv2.waitKey(0)\n",
    "cv2.destroyAllWindows()\n",
    "\n",
    "# problem is the length of the line is infinte. To over come this problem we use HoughLinesP()"
   ]
  },
  {
   "cell_type": "code",
   "execution_count": null,
   "metadata": {},
   "outputs": [],
   "source": []
  },
  {
   "cell_type": "code",
   "execution_count": null,
   "metadata": {},
   "outputs": [],
   "source": []
  },
  {
   "cell_type": "code",
   "execution_count": null,
   "metadata": {},
   "outputs": [],
   "source": []
  }
 ],
 "metadata": {
  "kernelspec": {
   "display_name": "Python 3",
   "language": "python",
   "name": "python3"
  },
  "language_info": {
   "codemirror_mode": {
    "name": "ipython",
    "version": 3
   },
   "file_extension": ".py",
   "mimetype": "text/x-python",
   "name": "python",
   "nbconvert_exporter": "python",
   "pygments_lexer": "ipython3",
   "version": "3.7.6"
  }
 },
 "nbformat": 4,
 "nbformat_minor": 4
}
