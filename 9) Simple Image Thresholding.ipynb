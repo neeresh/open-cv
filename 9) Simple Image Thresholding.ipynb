{
 "cells": [
  {
   "cell_type": "code",
   "execution_count": 13,
   "metadata": {},
   "outputs": [],
   "source": [
    "import cv2 "
   ]
  },
  {
   "cell_type": "code",
   "execution_count": 14,
   "metadata": {},
   "outputs": [],
   "source": [
    "# Thresholding is a method of image segmentation, in general it is used to create binary images. \n",
    "# Thresholding is of two types namely, simple thresholding and adaptive thresholding.\n",
    "\n",
    "#The goal of image segmentation is to simplify and/or \n",
    "# change the representation of an image into something that is more meaningful and easier to analyze.\n",
    "image = cv2.imread('gradient.png')\n",
    "\n",
    "\n",
    "# In simple thresholding operation the pixels whose values are greater than \n",
    "# the specified threshold value, are assigned with a standard value.\n",
    "\n",
    "_, th1 = cv2.threshold(image, 150, 255, cv2.THRESH_BINARY)\n",
    "_, th2 = cv2.threshold(image, 150, 255, cv2.THRESH_BINARY_INV)\n",
    "_, th3 = cv2.threshold(image, 127, 255, cv2.THRESH_TRUNC)\n",
    "# After 127 pixels every pixel is truncated and replaced with 127pixel\n",
    "_, th4 = cv2.threshold(image, 127, 255, cv2.THRESH_TOZERO)\n",
    "# Below 127 pixels every pixel becomes 127 pixel\n",
    "_, th5 = cv2.threshold(image, 127, 255, cv2.THRESH_TOZERO_INV)\n",
    "# After 127 pixels every pixel becomes 127 pixel\n",
    "\n",
    "cv2.imshow(\"Image\", image)\n",
    "cv2.imshow(\"TH1\", th1)\n",
    "cv2.imshow(\"TH2\", th2)\n",
    "cv2.imshow(\"TH3\", th3)\n",
    "cv2.imshow(\"TH4\", th4)\n",
    "cv2.imshow(\"TH5\", th5)\n",
    "\n",
    "cv2.waitKey(0)\n",
    "cv2.destroyAllWindows()"
   ]
  },
  {
   "cell_type": "code",
   "execution_count": null,
   "metadata": {},
   "outputs": [],
   "source": []
  },
  {
   "cell_type": "code",
   "execution_count": null,
   "metadata": {},
   "outputs": [],
   "source": []
  }
 ],
 "metadata": {
  "kernelspec": {
   "display_name": "Python 3",
   "language": "python",
   "name": "python3"
  },
  "language_info": {
   "codemirror_mode": {
    "name": "ipython",
    "version": 3
   },
   "file_extension": ".py",
   "mimetype": "text/x-python",
   "name": "python",
   "nbconvert_exporter": "python",
   "pygments_lexer": "ipython3",
   "version": "3.7.6"
  }
 },
 "nbformat": 4,
 "nbformat_minor": 4
}
